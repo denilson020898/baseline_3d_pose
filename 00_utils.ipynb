{
 "cells": [
  {
   "cell_type": "code",
   "execution_count": null,
   "metadata": {},
   "outputs": [],
   "source": [
    "# default_exp utils"
   ]
  },
  {
   "cell_type": "markdown",
   "metadata": {},
   "source": [
    "# utils.py\n",
    "\n",
    "> utilities + helpers"
   ]
  },
  {
   "cell_type": "code",
   "execution_count": null,
   "metadata": {},
   "outputs": [
    {
     "name": "stdout",
     "output_type": "stream",
     "text": [
      "The autoreload extension is already loaded. To reload it, use:\n",
      "  %reload_ext autoreload\n"
     ]
    }
   ],
   "source": [
    "# hide \n",
    "%load_ext autoreload\n",
    "%autoreload 2"
   ]
  },
  {
   "cell_type": "code",
   "execution_count": null,
   "metadata": {},
   "outputs": [],
   "source": [
    "# hide\n",
    "from nbdev.showdoc import *\n",
    "from nbdev.export import notebook2script"
   ]
  },
  {
   "cell_type": "code",
   "execution_count": null,
   "metadata": {},
   "outputs": [],
   "source": [
    "# export\n",
    "import json\n",
    "import numpy as np\n",
    "from mpl_toolkits.mplot3d import Axes3D\n",
    "from fastai.vision import *"
   ]
  },
  {
   "cell_type": "markdown",
   "metadata": {},
   "source": [
    "## constants"
   ]
  },
  {
   "cell_type": "code",
   "execution_count": null,
   "metadata": {},
   "outputs": [],
   "source": [
    "# exports\n",
    "TRAIN_SUBJECTS = [1, 5, 6, 7, 8]\n",
    "TEST_SUBJECTS  = [9, 11]\n",
    "\n",
    "H36M_NAMES = ['']*32\n",
    "H36M_NAMES[0]  = 'Hip'\n",
    "H36M_NAMES[1]  = 'RHip'\n",
    "H36M_NAMES[2]  = 'RKnee'\n",
    "H36M_NAMES[3]  = 'RFoot'\n",
    "H36M_NAMES[6]  = 'LHip'\n",
    "H36M_NAMES[7]  = 'LKnee'\n",
    "H36M_NAMES[8]  = 'LFoot'\n",
    "H36M_NAMES[12] = 'Spine'\n",
    "H36M_NAMES[13] = 'Thorax'\n",
    "H36M_NAMES[14] = 'Neck/Nose'\n",
    "H36M_NAMES[15] = 'Head'\n",
    "H36M_NAMES[17] = 'LShoulder'\n",
    "H36M_NAMES[18] = 'LElbow'\n",
    "H36M_NAMES[19] = 'LWrist'\n",
    "H36M_NAMES[25] = 'RShoulder'\n",
    "H36M_NAMES[26] = 'RElbow'\n",
    "H36M_NAMES[27] = 'RWrist'\n",
    "\n",
    "N_CAMERAS = 4\n",
    "N_JOINTS = 32\n",
    "\n",
    "PLOT_RADIUS = 300"
   ]
  },
  {
   "cell_type": "code",
   "execution_count": null,
   "metadata": {},
   "outputs": [
    {
     "data": {
      "text/plain": [
       "[PosixPath('data/train_2d.pth.tar'),\n",
       " PosixPath('data/stat_2d.pth.tar'),\n",
       " PosixPath('data/train_3d.pth.tar'),\n",
       " PosixPath('data/test_2d.pth.tar'),\n",
       " PosixPath('data/test_2d_ft.pth.tar'),\n",
       " PosixPath('data/train_2d_ft.pth.tar'),\n",
       " PosixPath('data/test_3d.pth.tar'),\n",
       " PosixPath('data/stat_3d.pth.tar'),\n",
       " PosixPath('data/rcams.pth.tar')]"
      ]
     },
     "execution_count": null,
     "metadata": {},
     "output_type": "execute_result"
    }
   ],
   "source": [
    "# exports\n",
    "data_path = Path('data')\n",
    "data_path.ls()"
   ]
  },
  {
   "cell_type": "markdown",
   "metadata": {},
   "source": [
    "## actions"
   ]
  },
  {
   "cell_type": "code",
   "execution_count": null,
   "metadata": {},
   "outputs": [],
   "source": [
    "# export\n",
    "def get_actions(action:str):\n",
    "    \"\"\"\n",
    "    \"\"\"\n",
    "    actions = ['Directions',\n",
    "               'Discussion',\n",
    "               'Eating',\n",
    "               'Greeting',\n",
    "               'Phoning',\n",
    "               'Photo',\n",
    "               'Posing',\n",
    "               'Purchases',\n",
    "               'Sitting',\n",
    "               'SittingDown',\n",
    "               'Smoking',\n",
    "               'Waiting',\n",
    "               'WalkDog',\n",
    "               'Walking',\n",
    "               'WalkTogether']\n",
    "    if action == 'All' or action == 'all':\n",
    "        return actions\n",
    "    \n",
    "    if action not in actions:\n",
    "        raise (ValueError, f'{action} is not found in {x for x in actions}')\n",
    "    \n",
    "    return [action]"
   ]
  },
  {
   "cell_type": "code",
   "execution_count": null,
   "metadata": {},
   "outputs": [],
   "source": [
    "assert get_actions('all') == ['Directions', 'Discussion', 'Eating', 'Greeting', 'Phoning', 'Photo', 'Posing', 'Purchases', 'Sitting', 'SittingDown', 'Smoking', 'Waiting', 'WalkDog', 'Walking', 'WalkTogether']\n",
    "assert get_actions('All') == ['Directions', 'Discussion', 'Eating', 'Greeting', 'Phoning', 'Photo', 'Posing', 'Purchases', 'Sitting', 'SittingDown', 'Smoking', 'Waiting', 'WalkDog', 'Walking', 'WalkTogether']\n",
    "assert get_actions('Smoking') == ['Smoking']"
   ]
  },
  {
   "cell_type": "markdown",
   "metadata": {},
   "source": [
    "## data_utils"
   ]
  },
  {
   "cell_type": "code",
   "execution_count": null,
   "metadata": {},
   "outputs": [],
   "source": [
    "# export\n",
    "def normalize_data(unnormalized, mean, std, dim_use):\n",
    "    normalized = {}\n",
    "    for key in unnormalized.keys():\n",
    "        unnormalized[key] = unnormalized[key][:, dim_use]\n",
    "        m = mean[dim_use]\n",
    "        s = std[dim_use]\n",
    "        normalized[key] = np.divide((unnormalized[key] - m), s)\n",
    "    return normalized"
   ]
  },
  {
   "cell_type": "code",
   "execution_count": null,
   "metadata": {},
   "outputs": [],
   "source": [
    "# export\n",
    "def unnormalize_data(normalized, mean, std, dim_ignore):\n",
    "    T = normalized.shape[0]\n",
    "    D = mean.shape[0]\n",
    "    orig = np.zeros((T, D), dtype=np.float32)\n",
    "    dim_use = np.array([dim for dim in range(D) if dim not in dim_ignore])\n",
    "    orig[:, dim_use] = normalized\n",
    "    \n",
    "    std_m = std.reshape((1, D))\n",
    "    std_m = np.repeat(std_m, T, axis=0)\n",
    "    mean_m = mean.reshape((1, D))\n",
    "    mean_m = np.repeat(mean_m, T, axis=0)\n",
    "    orig = np.multiply(orig, std_m) + mean_m\n",
    "    return orig"
   ]
  },
  {
   "cell_type": "code",
   "execution_count": null,
   "metadata": {},
   "outputs": [],
   "source": [
    "# export\n",
    "def normalize_kp(kp, mean, std, dim_use):\n",
    "    m = mean[dim_use]\n",
    "    s = std[dim_use]\n",
    "    return np.divide((kp - m), s)"
   ]
  },
  {
   "cell_type": "code",
   "execution_count": null,
   "metadata": {},
   "outputs": [],
   "source": [
    "# export\n",
    "def get_kp_from_json(fname):\n",
    "    with open(fname) as f:\n",
    "        kp = json.load(f)\n",
    "    kpl = np.array(kp['people'][0]['pose_keypoints_2d'])\n",
    "    return kpl"
   ]
  },
  {
   "cell_type": "code",
   "execution_count": null,
   "metadata": {},
   "outputs": [],
   "source": [
    "# export\n",
    "def coco_to_skel(s):\n",
    "    s = s.reshape(-1, 2)\n",
    "    hip = (s[8] + s[11]) / 2\n",
    "    rhip = s[8]\n",
    "    rknee = s[9]\n",
    "    rfoot = s[10]\n",
    "    lhip = s[11]\n",
    "    lknee = s[12]\n",
    "    lfoot = s[13]\n",
    "    spine = (s[1] + hip) / 2\n",
    "    thorax = s[1]\n",
    "    head = (s[16] + s[17]) / 2 # TODO:  kurang tinggi\n",
    "    lshoulder = s[5]\n",
    "    lelbow = s[6]\n",
    "    lwrist = s[7]\n",
    "    rshoulder = s[2]\n",
    "    relbow = s[3]\n",
    "    rwrist = s[4]\n",
    "    return np.array([hip, rhip, rknee, rfoot, lhip, lknee, lfoot, \n",
    "            spine, thorax, head, \n",
    "            lshoulder, lelbow, lwrist,\n",
    "            rshoulder, relbow, rwrist ]).reshape(1, -1)"
   ]
  },
  {
   "cell_type": "markdown",
   "metadata": {},
   "source": [
    "## cameras"
   ]
  },
  {
   "cell_type": "code",
   "execution_count": null,
   "metadata": {},
   "outputs": [],
   "source": [
    "# export\n",
    "def get_cam_rt(key, rcams):\n",
    "    subj, _, sname = key\n",
    "    cname = sname.split('.')[1] # <-- camera name\n",
    "    scams = {(subj,c+1): rcams[(subj,c+1)] for c in range(N_CAMERAS)} # cams of this subject\n",
    "    scam_idx = [scams[(subj,c+1)][-1] for c in range(N_CAMERAS)].index( cname ) # index of camera used\n",
    "    the_cam  = scams[(subj, scam_idx+1)] # <-- the camera used\n",
    "    R, T, f, c, k, p, name = the_cam\n",
    "    assert name == cname    \n",
    "    return R, T"
   ]
  },
  {
   "cell_type": "code",
   "execution_count": null,
   "metadata": {},
   "outputs": [],
   "source": [
    "# export\n",
    "def camera_to_world_frame(P, R, T):\n",
    "  X_cam = R.T.dot( P.T ) + T\n",
    "  return X_cam.T"
   ]
  },
  {
   "cell_type": "code",
   "execution_count": null,
   "metadata": {},
   "outputs": [],
   "source": [
    "# export\n",
    "def cam_to_world_centered(data, key, rcams):\n",
    "    R, T = get_cam_rt(key, rcams)\n",
    "    data_3d_worldframe = camera_to_world_frame(data.reshape((-1, 3)), R, T)\n",
    "    data_3d_worldframe = data_3d_worldframe.reshape((-1, N_JOINTS*3))\n",
    "    # subtract root translation\n",
    "    return data_3d_worldframe - np.tile( data_3d_worldframe[:,:3], (1,N_JOINTS) )"
   ]
  },
  {
   "cell_type": "markdown",
   "metadata": {},
   "source": [
    "## viz"
   ]
  },
  {
   "cell_type": "code",
   "execution_count": null,
   "metadata": {},
   "outputs": [],
   "source": [
    "# export\n",
    "def show_2d_pose(skel, ax, lcolor='#094e94', rcolor='#940909'):\n",
    "    kps = np.reshape(skel, (len(H36M_NAMES), -1))\n",
    "    start = np.array([1,2,3,1,7,8,1, 13,14,14,18,19,14,26,27])-1 # start points\n",
    "    end = np.array([2,3,4,7,8,9,13,14,16,18,19,20,26,27,28])-1 # end points\n",
    "    left_right = np.array([1,1,1,0,0,0,0, 0, 0, 0, 0, 0, 1, 1, 1], dtype=bool)\n",
    "    for i in range(len(start)):\n",
    "        x, y = [np.array( [kps[start[i], j], kps[end[i], j]] ) for j in range(2)]\n",
    "        ax.plot(x, y, lw=2, c=lcolor if left_right[i] else rcolor)\n",
    "        ax.scatter(x, y, c=lcolor if left_right[i] else rcolor)\n",
    "    xroot, yroot = kps[0,0], kps[0,1]\n",
    "    ax.set_xlim(-PLOT_RADIUS+xroot, PLOT_RADIUS+xroot)\n",
    "    ax.set_ylim(-PLOT_RADIUS+yroot, PLOT_RADIUS+yroot)"
   ]
  },
  {
   "cell_type": "code",
   "execution_count": null,
   "metadata": {},
   "outputs": [],
   "source": [
    "# export\n",
    "def show_3d_pose(skel, ax, lcolor='#094e94', rcolor='#940909'):\n",
    "    kps = np.reshape(skel, (len(H36M_NAMES), -1))\n",
    "    start = np.array([1,2,3,1,7,8,1, 13,14,15,14,18,19,14,26,27])-1 # start points\n",
    "    end = np.array([2,3,4,7,8,9,13,14,15,16,18,19,20,26,27,28])-1 # end points\n",
    "    left_right = np.array([1,1,1,0,0,0,0, 0, 0, 0, 0, 0, 0, 1, 1, 1], dtype=bool)\n",
    "    for i in np.arange( len(start) ):\n",
    "        x, y, z = [np.array( [kps[start[i], j], kps[end[i], j]] ) for j in range(3)]\n",
    "        ax.plot(x, y, z, lw=2, c=lcolor if left_right[i] else rcolor)\n",
    "        ax.scatter(x, y, z, c=lcolor if left_right[i] else rcolor)\n",
    "        \n",
    "    xroot, yroot, zroot = kps[0,0], kps[0,1], kps[0,2]\n",
    "    ax.set_xlim3d([-PLOT_RADIUS*2+xroot, PLOT_RADIUS*2+xroot])\n",
    "    ax.set_zlim3d([-PLOT_RADIUS*2+zroot, PLOT_RADIUS*2+zroot])\n",
    "    ax.set_ylim3d([-PLOT_RADIUS*2+yroot, PLOT_RADIUS*2+yroot])\n",
    "    ax.set_xlabel(\"x\")\n",
    "    ax.set_ylabel(\"y\")\n",
    "    ax.set_zlabel(\"z\")\n",
    "    white = (1.0, 1.0, 1.0, 0.0)\n",
    "    ax.w_xaxis.set_pane_color(white)\n",
    "    ax.w_yaxis.set_pane_color(white)\n",
    "    ax.w_xaxis.line.set_color(white)\n",
    "    ax.w_yaxis.line.set_color(white)\n",
    "    ax.w_zaxis.line.set_color(white)"
   ]
  },
  {
   "cell_type": "code",
   "execution_count": null,
   "metadata": {},
   "outputs": [
    {
     "name": "stdout",
     "output_type": "stream",
     "text": [
      "Converted 00_utils.ipynb.\n",
      "Converted 01_viz.ipynb.\n",
      "Converted index.ipynb.\n"
     ]
    }
   ],
   "source": [
    "# hide\n",
    "notebook2script()"
   ]
  }
 ],
 "metadata": {
  "kernelspec": {
   "display_name": "Python 3",
   "language": "python",
   "name": "python3"
  }
 },
 "nbformat": 4,
 "nbformat_minor": 4
}
