{
 "cells": [
  {
   "cell_type": "code",
   "execution_count": null,
   "metadata": {},
   "outputs": [],
   "source": [
    "# default_exp train"
   ]
  },
  {
   "cell_type": "markdown",
   "metadata": {},
   "source": [
    "# train.py\n",
    "\n",
    "> training model"
   ]
  },
  {
   "cell_type": "code",
   "execution_count": null,
   "metadata": {},
   "outputs": [],
   "source": [
    "# hide\n",
    "%load_ext autoreload\n",
    "%autoreload 2\n",
    "%matplotlib inline"
   ]
  },
  {
   "cell_type": "code",
   "execution_count": null,
   "metadata": {},
   "outputs": [],
   "source": [
    "# export\n",
    "from baseline_3d_pose.utils import *\n",
    "from baseline_3d_pose.model import *\n",
    "from baseline_3d_pose.dataset import *\n",
    "from baseline_3d_pose.viz import *\n",
    "from fastai.vision import *\n",
    "from fastprogress.fastprogress import master_bar, progress_bar\n",
    "import json\n",
    "import torch\n",
    "import torch.optim as optim\n",
    "from torch.utils.data import DataLoader"
   ]
  },
  {
   "cell_type": "code",
   "execution_count": null,
   "metadata": {},
   "outputs": [],
   "source": [
    "class AverageMeter():\n",
    "    def __init__(self):\n",
    "        self.val = 0\n",
    "        self.avg = 0\n",
    "        self.sum = 0\n",
    "        self.count = 0\n",
    "    def update(self, val, n=1):\n",
    "        self.val = val\n",
    "        self.sum += val * n\n",
    "        self.count += n\n",
    "        self.avg = self.sum / self.count"
   ]
  },
  {
   "cell_type": "code",
   "execution_count": null,
   "metadata": {},
   "outputs": [],
   "source": [
    "def lr_decay(optimizer, step, lr, decay_step, gamma):\n",
    "    lr = lr * gamma ** (step/decay_step)\n",
    "    for param_group in optimizer.param_groups:\n",
    "        param_group['lr'] = lr\n",
    "    return lr"
   ]
  },
  {
   "cell_type": "code",
   "execution_count": null,
   "metadata": {},
   "outputs": [],
   "source": [
    "class Options():\n",
    "    def __init__(self):\n",
    "        # paths\n",
    "        self.data_path = Path('data')\n",
    "        self.model_path = Path('model')\n",
    "        \n",
    "        # train options\n",
    "        self.actions = 'Directions'\n",
    "        self.attempt_id = '01'\n",
    "        self.attempt_path = Path('model')/self.attempt_id\n",
    "        \n",
    "        self.load_ckpt = False\n",
    "        self.resume = False\n",
    "        \n",
    "        # train hyper-params\n",
    "        self.bs = 64\n",
    "        self.start_epoch = 0\n",
    "        self.epochs = 10\n",
    "        self.lr = 1e-3\n",
    "        self.lr_decay = 100000\n",
    "        self.lr_gamma = 0.96\n",
    "        \n",
    "        # model hyper-params\n",
    "        self.size = 1024\n",
    "        self.stages = 2\n",
    "        self.dropout = 0.5\n",
    "        \n",
    "        # metrics\n",
    "        self.lr_list = []\n",
    "        self.loss_list = []"
   ]
  },
  {
   "cell_type": "code",
   "execution_count": null,
   "metadata": {},
   "outputs": [],
   "source": [
    "def save_options(options):\n",
    "    options.attempt_path.mkdir(exist_ok=True)\n",
    "    torch.save(options, options.attempt_path/'options.pt')"
   ]
  },
  {
   "cell_type": "code",
   "execution_count": null,
   "metadata": {},
   "outputs": [],
   "source": [
    "def save_ckpt(state, options, is_best=True):\n",
    "    options.attempt_path.mkdir(exist_ok=True)\n",
    "    fname = 'best_ckpt.pt' if is_best else 'last_ckpt.pt'\n",
    "    torch.save(state, options.attempt_path/fname)"
   ]
  },
  {
   "cell_type": "code",
   "execution_count": null,
   "metadata": {},
   "outputs": [],
   "source": [
    "def save_optimizer(optimizer, options):\n",
    "    options.attempt_path.mkdir(exist_ok=True)\n",
    "    torch.save(state, options.attempt_path/'optimizer.pt')"
   ]
  },
  {
   "cell_type": "code",
   "execution_count": null,
   "metadata": {},
   "outputs": [],
   "source": [
    "options = Options()\n",
    "device = torch.device('cuda')"
   ]
  },
  {
   "cell_type": "code",
   "execution_count": null,
   "metadata": {},
   "outputs": [
    {
     "name": "stdout",
     "output_type": "stream",
     "text": [
      "total params: 4291632\n"
     ]
    }
   ],
   "source": [
    "model = Model()\n",
    "model = model.cuda()\n",
    "model.apply(init_kaiming)\n",
    "print(f'total params: {sum(p.numel() for p in model.parameters())}')"
   ]
  },
  {
   "cell_type": "code",
   "execution_count": null,
   "metadata": {},
   "outputs": [],
   "source": [
    "criterion = nn.MSELoss(reduction='none').cuda()\n",
    "optimizer = optim.Adam(model.parameters(), lr=options.lr)"
   ]
  },
  {
   "cell_type": "code",
   "execution_count": null,
   "metadata": {},
   "outputs": [
    {
     "data": {
      "text/plain": [
       "{'data_path': PosixPath('data'),\n",
       " 'model_path': PosixPath('model'),\n",
       " 'actions': 'Directions',\n",
       " 'attempt_id': '01',\n",
       " 'attempt_path': PosixPath('model/01'),\n",
       " 'load': False,\n",
       " 'resume': False,\n",
       " 'size': 1024,\n",
       " 'stages': 2,\n",
       " 'dropout': 0.5,\n",
       " 'bs': 64,\n",
       " 'epochs': 10,\n",
       " 'lr': 0.001,\n",
       " 'lr_decay': 100000,\n",
       " 'lr_gamma': 0.96,\n",
       " 'lr_list': [],\n",
       " 'loss_list': []}"
      ]
     },
     "execution_count": null,
     "metadata": {},
     "output_type": "execute_result"
    }
   ],
   "source": [
    "vars(options)"
   ]
  },
  {
   "cell_type": "code",
   "execution_count": null,
   "metadata": {},
   "outputs": [],
   "source": [
    "if options.load:\n",
    "    pass\n",
    "\n",
    "if options.resume:\n",
    "    pass\n",
    "else:\n",
    "    pass"
   ]
  },
  {
   "cell_type": "code",
   "execution_count": null,
   "metadata": {},
   "outputs": [],
   "source": [
    "stat_3d = torch.load(data_path/'stat_3d.pt')\n",
    "stat_2d = torch.load(data_path/'stat_2d.pt')\n",
    "train_set_3d = torch.load(data_path/'train_3d.pt')\n",
    "test_set_3d = torch.load(data_path/'test_3d.pt')\n",
    "train_set_2d = torch.load(data_path/'train_2d.pt')\n",
    "test_set_2d = torch.load(data_path/'test_2d.pt')\n",
    "rcams = torch.load(data_path/'rcams.pt')\n",
    "\n",
    "mean_2d = stat_2d['mean']\n",
    "std_2d = stat_2d['std']\n",
    "dim_use_2d = stat_2d['dim_use']\n",
    "dim_ignore_2d = stat_2d['dim_ignore']\n",
    "\n",
    "mean_3d = stat_3d['mean']\n",
    "std_3d = stat_3d['std']\n",
    "dim_use_3d = stat_3d['dim_use']\n",
    "dim_ignore_3d = stat_3d['dim_ignore']"
   ]
  },
  {
   "cell_type": "code",
   "execution_count": null,
   "metadata": {},
   "outputs": [],
   "source": [
    "train_ds = Human36Dataset(get_actions(options.actions),\n",
    "                          options.data_path, is_train=True)"
   ]
  },
  {
   "cell_type": "code",
   "execution_count": null,
   "metadata": {},
   "outputs": [],
   "source": [
    "train_dl = DataLoader(train_ds, batch_size=options.bs, shuffle=True)"
   ]
  },
  {
   "cell_type": "code",
   "execution_count": null,
   "metadata": {},
   "outputs": [
    {
     "data": {
      "text/html": [],
      "text/plain": [
       "<IPython.core.display.HTML object>"
      ]
     },
     "metadata": {},
     "output_type": "display_data"
    },
    {
     "name": "stdout",
     "output_type": "stream",
     "text": [
      "0 torch.Size([64, 32]) torch.Size([64, 48])\n"
     ]
    }
   ],
   "source": [
    "mb = master_bar(range(options.start_epoch, 1))\n",
    "for epoch in mb:\n",
    "    for b, (xb, yb) in enumerate(progress_bar(train_dl, parent=mb)):\n",
    "        print(b , x.shape, y.shape)\n",
    "        break\n",
    "#         mb.child.comment = f'second bar stat'\n",
    "#     mb.main_bar.comment = f'first bar stat'"
   ]
  },
  {
   "cell_type": "code",
   "execution_count": null,
   "metadata": {},
   "outputs": [],
   "source": []
  }
 ],
 "metadata": {
  "kernelspec": {
   "display_name": "Python 3",
   "language": "python",
   "name": "python3"
  }
 },
 "nbformat": 4,
 "nbformat_minor": 4
}
