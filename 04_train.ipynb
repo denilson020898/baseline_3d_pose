{
 "cells": [
  {
   "cell_type": "code",
   "execution_count": null,
   "metadata": {},
   "outputs": [],
   "source": [
    "# default_exp train"
   ]
  },
  {
   "cell_type": "markdown",
   "metadata": {},
   "source": [
    "# train.py\n",
    "\n",
    "> training model"
   ]
  },
  {
   "cell_type": "code",
   "execution_count": null,
   "metadata": {},
   "outputs": [
    {
     "name": "stdout",
     "output_type": "stream",
     "text": [
      "The autoreload extension is already loaded. To reload it, use:\n",
      "  %reload_ext autoreload\n"
     ]
    }
   ],
   "source": [
    "# hide\n",
    "%load_ext autoreload\n",
    "%autoreload 2\n",
    "%matplotlib inline"
   ]
  },
  {
   "cell_type": "code",
   "execution_count": null,
   "metadata": {},
   "outputs": [],
   "source": [
    "# export\n",
    "from baseline_3d_pose.utils import *\n",
    "from baseline_3d_pose.model import *\n",
    "from baseline_3d_pose.dataset import *\n",
    "from baseline_3d_pose.viz import *\n",
    "from fastai.vision import *\n",
    "from fastprogress.fastprogress import master_bar, progress_bar\n",
    "import json\n",
    "import torch\n",
    "import torch.optim as optim\n",
    "from torch.utils.data import DataLoader\n",
    "from matplotlib.gridspec import GridSpec"
   ]
  },
  {
   "cell_type": "code",
   "execution_count": null,
   "metadata": {},
   "outputs": [],
   "source": [
    "class Options():\n",
    "    def __init__(self):\n",
    "        # paths\n",
    "        self.data_path = Path('data')\n",
    "        self.model_path = Path('model')\n",
    "        \n",
    "        # train options\n",
    "        self.actions = 'Eating'\n",
    "        self.attempt_id = '01'\n",
    "        self.attempt_path = Path('model')/self.attempt_id\n",
    "        \n",
    "        self.load_ckpt = False\n",
    "        \n",
    "        # train hyper-params\n",
    "        self.bs = 64*2\n",
    "        self.epochs = 10\n",
    "        self.lr = 1e-3\n",
    "        \n",
    "        # model hyper-params\n",
    "        self.size = 1024\n",
    "        self.stages = 2\n",
    "        self.dropout = 0.5\n",
    "        \n",
    "        # metrics\n",
    "        self.train_loss_lists = []\n",
    "        self.test_loss_lists = []\n",
    "        self.train_skel_loss_lists = []\n",
    "        self.test_skel_loss_lists = []"
   ]
  },
  {
   "cell_type": "code",
   "execution_count": null,
   "metadata": {},
   "outputs": [],
   "source": [
    "def save_options(options):\n",
    "    options.attempt_path.mkdir(exist_ok=True)\n",
    "    torch.save(options, options.attempt_path/'options.pt')"
   ]
  },
  {
   "cell_type": "code",
   "execution_count": null,
   "metadata": {},
   "outputs": [],
   "source": [
    "def save_ckpt(model_state, optimizer_state, options, is_best=False):\n",
    "    options.attempt_path.mkdir(exist_ok=True)\n",
    "    model_name = 'best_model.pt' if is_best else 'last_model.pt'\n",
    "    optimizer_name = 'best_optimizer.pt' if is_best else 'last_optimizer.pt'\n",
    "    torch.save(model_state, options.attempt_path/model_name)\n",
    "    torch.save(optimizer_state, options.attempt_path/optimizer_name)"
   ]
  },
  {
   "cell_type": "code",
   "execution_count": null,
   "metadata": {},
   "outputs": [],
   "source": [
    "options = Options()"
   ]
  },
  {
   "cell_type": "code",
   "execution_count": null,
   "metadata": {},
   "outputs": [],
   "source": [
    "stat_3d = torch.load(data_path/'stat_3d.pt')\n",
    "stat_2d = torch.load(data_path/'stat_2d.pt')\n",
    "rcams = torch.load(data_path/'rcams.pt')\n",
    "\n",
    "mean_2d = stat_2d['mean']\n",
    "std_2d = stat_2d['std']\n",
    "dim_use_2d = stat_2d['dim_use']\n",
    "dim_ignore_2d = stat_2d['dim_ignore']\n",
    "\n",
    "mean_3d = stat_3d['mean']\n",
    "std_3d = stat_3d['std']\n",
    "dim_use_3d = stat_3d['dim_use']\n",
    "dim_ignore_3d = stat_3d['dim_ignore']"
   ]
  },
  {
   "cell_type": "code",
   "execution_count": null,
   "metadata": {},
   "outputs": [],
   "source": [
    "device = torch.device('cuda')"
   ]
  },
  {
   "cell_type": "code",
   "execution_count": null,
   "metadata": {},
   "outputs": [],
   "source": [
    "def train(train_dl, model, criterion, optimizer, options, mb):\n",
    "    model.train()\n",
    "    loss_list = []\n",
    "    skel_loss_list = []\n",
    "    for xb, yb in progress_bar(train_dl, parent=mb):\n",
    "        xb, yb = xb.cuda(), yb.cuda()\n",
    "        yhat = model(xb)\n",
    "        optimizer.zero_grad()\n",
    "        loss_skel = criterion(yhat, yb)\n",
    "        loss = loss_skel.mean()\n",
    "        loss.backward()\n",
    "        nn.utils.clip_grad_norm_(model.parameters(), max_norm=1)\n",
    "        optimizer.step()\n",
    "        \n",
    "        loss_list.append(loss.item())\n",
    "        skel_loss_list.append(loss_skel.data.cpu().numpy())\n",
    "        \n",
    "        mb.child.comment = f'train loss: {loss.item()}'\n",
    "    return loss_list, skel_loss_list"
   ]
  },
  {
   "cell_type": "code",
   "execution_count": null,
   "metadata": {},
   "outputs": [],
   "source": [
    "def test(test_dl, model, criterion, options, mb):\n",
    "    model.eval()\n",
    "    loss_list = []\n",
    "    skel_loss_list = []\n",
    "    for xb, yb in progress_bar(train_dl, parent=mb):\n",
    "        xb, yb = xb.cuda(), yb.cuda()\n",
    "        with torch.no_grad():\n",
    "            yhat = model(xb)\n",
    "            loss_skel = criterion(yhat, yb)\n",
    "            loss = loss_skel.mean()\n",
    "        loss_list.append(loss.item())\n",
    "        skel_loss_list.append(loss_skel.data.cpu().numpy())\n",
    "        mb.child.comment = f'test loss: {loss.item()}'\n",
    "    return loss_list, skel_loss_list"
   ]
  },
  {
   "cell_type": "code",
   "execution_count": null,
   "metadata": {},
   "outputs": [
    {
     "name": "stdout",
     "output_type": "stream",
     "text": [
      "total params: 4291632\n"
     ]
    },
    {
     "data": {
      "text/html": [],
      "text/plain": [
       "<IPython.core.display.HTML object>"
      ]
     },
     "metadata": {},
     "output_type": "display_data"
    }
   ],
   "source": [
    "model = Model()\n",
    "model = model.cuda()\n",
    "model.apply(init_kaiming)\n",
    "print(f'total params: {sum(p.numel() for p in model.parameters())}')\n",
    "\n",
    "criterion = nn.MSELoss(reduction='none').cuda()\n",
    "optimizer = optim.Adam(model.parameters(), lr=options.lr)\n",
    "\n",
    "if options.load_ckpt:\n",
    "    options = torch.load('model/01/options.pt')\n",
    "    model_state = torch.load(options.attempt_path/'last_model.pt')\n",
    "    optimizer_state = torch.load(options.attempt_path/'last_optimizer.pt')\n",
    "    model.load_state_dict(model_state)\n",
    "    optimizer.load_state_dict(optimizer_state)\n",
    "\n",
    "train_ds = Human36Dataset(get_actions(options.actions), options.data_path, is_train=True)\n",
    "train_dl = DataLoader(train_ds, batch_size=options.bs, shuffle=True)\n",
    "test_ds = Human36Dataset(get_actions(options.actions), options.data_path, is_train=False)\n",
    "test_dl = DataLoader(train_ds, batch_size=options.bs, shuffle=False)\n",
    "\n",
    "mb = master_bar(range(0, 2))\n",
    "for epoch in mb:\n",
    "    train_loss_list, train_skel_loss_list = train(train_dl, model, criterion, optimizer, options, mb)\n",
    "    options.train_loss_lists.append(train_loss_list)\n",
    "    options.train_skel_loss_lists.append(train_skel_loss_list)\n",
    "    \n",
    "    test_loss_list, test_skel_loss_list = test(test_dl, model, criterion, options, mb)\n",
    "    options.test_loss_lists.append(test_loss_list)\n",
    "    options.test_skel_loss_lists.append(test_skel_loss_list)\n",
    "    \n",
    "    mb.main_bar.comment = f'train loss_mean: {np.mean(train_loss_list)} | test loss_mean: {np.mean(test_loss_list)}'"
   ]
  },
  {
   "cell_type": "code",
   "execution_count": null,
   "metadata": {},
   "outputs": [],
   "source": [
    "train_loss = np.hstack((options.train_loss_lists[0], options.train_loss_lists[1]))\n",
    "test_loss = np.hstack((options.test_loss_lists[0], options.test_loss_lists[1]))"
   ]
  },
  {
   "cell_type": "code",
   "execution_count": null,
   "metadata": {},
   "outputs": [
    {
     "data": {
      "text/plain": [
       "[<matplotlib.lines.Line2D at 0x7f11e680bcd0>]"
      ]
     },
     "execution_count": null,
     "metadata": {},
     "output_type": "execute_result"
    },
    {
     "data": {
      "image/png": "[encoded data removed]",
      "text/plain": [
       "<Figure size 432x288 with 1 Axes>"
      ]
     },
     "metadata": {
      "needs_background": "light"
     },
     "output_type": "display_data"
    }
   ],
   "source": [
    "plt.plot(test_loss)"
   ]
  },
  {
   "cell_type": "code",
   "execution_count": null,
   "metadata": {},
   "outputs": [
    {
     "data": {
      "text/plain": [
       "[<matplotlib.lines.Line2D at 0x7f120b07c290>]"
      ]
     },
     "execution_count": null,
     "metadata": {},
     "output_type": "execute_result"
    },
    {
     "data": {
      "image/png": "[encoded data removed]",
      "text/plain": [
       "<Figure size 432x288 with 1 Axes>"
      ]
     },
     "metadata": {
      "needs_background": "light"
     },
     "output_type": "display_data"
    }
   ],
   "source": [
    "plt.plot(train_loss)"
   ]
  },
  {
   "cell_type": "code",
   "execution_count": null,
   "metadata": {},
   "outputs": [],
   "source": []
  }
 ],
 "metadata": {
  "kernelspec": {
   "display_name": "Python 3",
   "language": "python",
   "name": "python3"
  }
 },
 "nbformat": 4,
 "nbformat_minor": 4
}
