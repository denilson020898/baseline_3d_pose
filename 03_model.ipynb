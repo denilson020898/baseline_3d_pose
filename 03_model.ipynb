{
 "cells": [
  {
   "cell_type": "code",
   "execution_count": null,
   "metadata": {},
   "outputs": [],
   "source": [
    "# default_exp model"
   ]
  },
  {
   "cell_type": "markdown",
   "metadata": {},
   "source": [
    "## model.py\n",
    "\n",
    "> model + architecture"
   ]
  },
  {
   "cell_type": "code",
   "execution_count": null,
   "metadata": {},
   "outputs": [],
   "source": [
    "%load_ext autoreload\n",
    "%autoreload 2\n",
    "%matplotlib inline"
   ]
  },
  {
   "cell_type": "code",
   "execution_count": null,
   "metadata": {},
   "outputs": [],
   "source": [
    "# export\n",
    "import torch\n",
    "import torch.nn as nn\n",
    "import torch.nn.functional as F"
   ]
  },
  {
   "cell_type": "code",
   "execution_count": null,
   "metadata": {},
   "outputs": [],
   "source": [
    "# export\n",
    "def init_kaiming(m):\n",
    "    if isinstance(m, nn.Linear):\n",
    "        nn.init.kaiming_normal_(m.weight)"
   ]
  },
  {
   "cell_type": "code",
   "execution_count": null,
   "metadata": {},
   "outputs": [],
   "source": [
    "# export\n",
    "class ResLinear(nn.Module):\n",
    "    def __init__(self, size, pd=0.5):\n",
    "        super().__init__()\n",
    "        self.size = size\n",
    "        self.relu = nn.ReLU(inplace=True)\n",
    "        self.drop = nn.Dropout(pd)\n",
    "        # learnable\n",
    "        self.ln1 = nn.Linear(self.size, self.size)\n",
    "        self.bn2 = nn.BatchNorm1d(self.size)\n",
    "        self.ln3 = nn.Linear(self.size, self.size)\n",
    "        self.bn4 = nn.BatchNorm1d(self.size)\n",
    "    def forward(self, x):\n",
    "        y = self.drop(self.relu(self.bn2(self.ln1(x))))\n",
    "        y = self.drop(self.relu(self.bn4(self.ln3(y))))\n",
    "        return x + y"
   ]
  },
  {
   "cell_type": "code",
   "execution_count": null,
   "metadata": {},
   "outputs": [],
   "source": [
    "# export\n",
    "class Model(nn.Module):\n",
    "    def __init__(self, size=1024, num_res_lyr=2, pd=0.5):\n",
    "        super().__init__()\n",
    "        self.size, self.num_res_lyr, self.pd = size, num_res_lyr, pd\n",
    "        self.input_size, self.output_size = 32, 48\n",
    "        self.relu = nn.ReLU(inplace=True)\n",
    "        self.drop = nn.Dropout(self.pd)\n",
    "        \n",
    "        # input size\n",
    "        self.ln_in = nn.Linear(self.input_size, self.size)\n",
    "        self.bn_in = nn.BatchNorm1d(self.size)\n",
    "        \n",
    "        # res layers\n",
    "        self.lins = []\n",
    "        for i in range(num_res_lyr):\n",
    "            self.lins.append(ResLinear(self.size, self.pd))\n",
    "        self.lins = nn.ModuleList(self.lins)\n",
    "        \n",
    "        # output size\n",
    "        self.ln_out = nn.Linear(self.size, self.output_size)\n",
    "    def forward(self, x):\n",
    "        y = self.drop(self.relu(self.bn_in(self.ln_in(x))))\n",
    "        for i in range(self.num_res_lyr):\n",
    "            y = self.lins[i](y)\n",
    "        y = self.ln_out(y)\n",
    "        return y"
   ]
  }
 ],
 "metadata": {
  "kernelspec": {
   "display_name": "Python 3",
   "language": "python",
   "name": "python3"
  }
 },
 "nbformat": 4,
 "nbformat_minor": 4
}
