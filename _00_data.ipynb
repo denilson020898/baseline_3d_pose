{
 "cells": [
  {
   "cell_type": "code",
   "execution_count": null,
   "metadata": {},
   "outputs": [],
   "source": [
    "# default_exp data"
   ]
  },
  {
   "cell_type": "markdown",
   "metadata": {},
   "source": [
    "# data.py\n",
    "\n",
    "> modules for inspecting the data"
   ]
  },
  {
   "cell_type": "code",
   "execution_count": null,
   "metadata": {},
   "outputs": [],
   "source": [
    "#hide\n",
    "from nbdev.showdoc import *\n",
    "from fastai.vision import *"
   ]
  },
  {
   "cell_type": "code",
   "execution_count": null,
   "metadata": {},
   "outputs": [
    {
     "data": {
      "text/plain": [
       "[PosixPath('data/train_2d.pth.tar'),\n",
       " PosixPath('data/train_3d.pth.tar'),\n",
       " PosixPath('data/test_2d.pth.tar'),\n",
       " PosixPath('data/test_2d_ft.pth.tar'),\n",
       " PosixPath('data/train_2d_ft.pth.tar'),\n",
       " PosixPath('data/test_3d.pth.tar'),\n",
       " PosixPath('data/stat_3d.pth.tar')]"
      ]
     },
     "execution_count": null,
     "metadata": {},
     "output_type": "execute_result"
    }
   ],
   "source": [
    "data_path = Path('data')\n",
    "data_path.ls()"
   ]
  },
  {
   "cell_type": "code",
   "execution_count": null,
   "metadata": {},
   "outputs": [],
   "source": [
    "stat_3d = torch.load(data_path/'stat_3d.pth.tar')"
   ]
  },
  {
   "cell_type": "code",
   "execution_count": null,
   "metadata": {},
   "outputs": [
    {
     "data": {
      "text/plain": [
       "dict_keys(['mean', 'std', 'dim_use', 'dim_ignore', 'train_root', 'test_root'])"
      ]
     },
     "execution_count": null,
     "metadata": {},
     "output_type": "execute_result"
    }
   ],
   "source": [
    "stat_3d.keys()"
   ]
  },
  {
   "cell_type": "code",
   "execution_count": null,
   "metadata": {},
   "outputs": [
    {
     "data": {
      "text/plain": [
       "array([   0.      ,    0.      ,    0.      ,   -0.255653, ...,  -36.834286,    0.524591, -165.867774,  -36.834286])"
      ]
     },
     "execution_count": null,
     "metadata": {},
     "output_type": "execute_result"
    }
   ],
   "source": [
    "stat_3d['mean']"
   ]
  },
  {
   "cell_type": "code",
   "execution_count": null,
   "metadata": {},
   "outputs": [],
   "source": [
    "train_set_3d = torch.load(data_path/'train_3d.pth.tar')"
   ]
  },
  {
   "cell_type": "code",
   "execution_count": null,
   "metadata": {},
   "outputs": [
    {
     "data": {
      "text/plain": [
       "array([[ 1.120139,  0.824709,  0.664921,  0.168664, ...,  0.462295,  0.777653,  0.875328,  0.997535],\n",
       "       [ 1.119314,  0.822044,  0.668415,  0.167789, ...,  0.461423,  0.768301,  0.870435,  0.999916],\n",
       "       [ 1.118593,  0.820576,  0.671385,  0.166983, ...,  0.459609,  0.762353,  0.867354,  0.999718],\n",
       "       [ 1.118141,  0.821497,  0.673104,  0.165622, ...,  0.457249,  0.759257,  0.865367,  0.997495],\n",
       "       ...,\n",
       "       [ 0.974209, -0.650475,  1.048559,  0.719905, ...,  0.477995,  0.84735 ,  0.936249,  0.917143],\n",
       "       [ 0.973033, -0.650405,  1.051138,  0.719954, ...,  0.477686,  0.834714,  0.93506 ,  0.919616],\n",
       "       [ 0.971866, -0.650319,  1.053692,  0.719993, ...,  0.477847,  0.819343,  0.933946,  0.922678],\n",
       "       [ 0.970378, -0.651391,  1.056826,  0.718762, ...,  0.477228,  0.802321,  0.934879,  0.921835]])"
      ]
     },
     "execution_count": null,
     "metadata": {},
     "output_type": "execute_result"
    }
   ],
   "source": [
    "train_set_3d[(1, 'Directions', 'Directions 1.54138969.h5')]"
   ]
  },
  {
   "cell_type": "code",
   "execution_count": null,
   "metadata": {},
   "outputs": [],
   "source": [
    "train_set_2d = torch.load(data_path/'train_2d.pth.tar')"
   ]
  },
  {
   "cell_type": "code",
   "execution_count": null,
   "metadata": {},
   "outputs": [
    {
     "data": {
      "text/plain": [
       "array([[-0.542063,  0.397749, -0.258918,  0.464261, ..., -0.090757,  0.504997, -0.130928,  0.843619],\n",
       "       [-0.542026,  0.39791 , -0.259014,  0.464274, ..., -0.089592,  0.504665, -0.134512,  0.841068],\n",
       "       [-0.541974,  0.398126, -0.259075,  0.464425, ..., -0.088175,  0.504291, -0.13675 ,  0.839494],\n",
       "       [-0.541874,  0.398428, -0.259037,  0.464823, ..., -0.086743,  0.503481, -0.137833,  0.838531],\n",
       "       ...,\n",
       "       [-0.215286,  0.256225, -0.000856,  0.222175, ...,  0.166997,  0.389731,  0.146148,  0.775821],\n",
       "       [-0.215104,  0.25639 , -0.000931,  0.222386, ...,  0.166005,  0.390665,  0.141417,  0.775354],\n",
       "       [-0.214887,  0.256434, -0.000975,  0.222479, ...,  0.165197,  0.3919  ,  0.135659,  0.774865],\n",
       "       [-0.214759,  0.256285, -0.001163,  0.22231 , ...,  0.163877,  0.392904,  0.129249,  0.77524 ]])"
      ]
     },
     "execution_count": null,
     "metadata": {},
     "output_type": "execute_result"
    }
   ],
   "source": [
    "train_set_2d[(1, 'Directions', 'Directions 1.54138969.h5')]"
   ]
  },
  {
   "cell_type": "markdown",
   "metadata": {},
   "source": [
    "## list of actions"
   ]
  },
  {
   "cell_type": "code",
   "execution_count": null,
   "metadata": {},
   "outputs": [],
   "source": [
    "actions = [\"Directions\",]\n",
    "#            \"Discussion\",\n",
    "#            \"Eating\",\n",
    "#            \"Greeting\",\n",
    "#            \"Phoning\",\n",
    "#            \"Photo\",\n",
    "#            \"Posing\",\n",
    "#            \"Purchases\",\n",
    "#            \"Sitting\",\n",
    "#            \"SittingDown\",\n",
    "#            \"Smoking\",\n",
    "#            \"Waiting\",\n",
    "#            \"WalkDog\",\n",
    "#            \"Walking\",\n",
    "#            \"WalkTogether\"]"
   ]
  },
  {
   "cell_type": "code",
   "execution_count": null,
   "metadata": {},
   "outputs": [
    {
     "data": {
      "text/plain": [
       "1"
      ]
     },
     "execution_count": null,
     "metadata": {},
     "output_type": "execute_result"
    }
   ],
   "source": [
    "len(actions)"
   ]
  },
  {
   "cell_type": "code",
   "execution_count": null,
   "metadata": {},
   "outputs": [
    {
     "data": {
      "text/plain": [
       "<class 'dict'>"
      ]
     },
     "execution_count": null,
     "metadata": {},
     "output_type": "execute_result"
    }
   ],
   "source": [
    "stat_3d = torch.load(data_path/'stat_3d.pth.tar')\n",
    "type(stat_3d)"
   ]
  },
  {
   "cell_type": "code",
   "execution_count": null,
   "metadata": {},
   "outputs": [],
   "source": [
    "import os\n",
    "import torch\n",
    "from torch.utils.data import Dataset\n",
    "\n",
    "\n",
    "TRAIN_SUBJECTS = [1, 5, 6, 7, 8]\n",
    "TEST_SUBJECTS = [9, 11]\n",
    "\n",
    "\n",
    "class Human36M(Dataset):\n",
    "    def __init__(self, actions, data_path, use_hg=True, is_train=True):\n",
    "        \"\"\"\n",
    "        :param actions: list of actions to use\n",
    "        :param data_path: path to dataset\n",
    "        :param use_hg: use stacked hourglass detections\n",
    "        :param is_train: load train/test dataset\n",
    "        \"\"\"\n",
    "\n",
    "        self.actions = actions\n",
    "        self.data_path = data_path\n",
    "\n",
    "        self.is_train = is_train\n",
    "        self.use_hg = use_hg\n",
    "\n",
    "        self.train_inp, self.train_out, self.test_inp, self.test_out = [], [], [], []\n",
    "        self.train_meta, self.test_meta = [], []\n",
    "\n",
    "        # loading data\n",
    "        if self.use_hg:\n",
    "            train_2d_file = 'train_2d_ft.pth.tar'\n",
    "            test_2d_file = 'test_2d_ft.pth.tar'\n",
    "        else:\n",
    "            train_2d_file = 'train_2d.pth.tar'\n",
    "            test_2d_file = 'test_2d.pth.tar'\n",
    "\n",
    "        if self.is_train:\n",
    "            # load train data\n",
    "            self.train_3d = torch.load(os.path.join(data_path, 'train_3d.pth.tar'))\n",
    "            self.train_2d = torch.load(os.path.join(data_path, train_2d_file))\n",
    "            for k2d in self.train_2d.keys():\n",
    "                (sub, act, fname) = k2d\n",
    "                k3d = k2d\n",
    "                k3d = (sub, act, fname[:-3]) if fname.endswith('-sh') else k3d\n",
    "                num_f, _ = self.train_2d[k2d].shape\n",
    "                assert self.train_3d[k3d].shape[0] == self.train_2d[k2d].shape[0], '(training) 3d & 2d shape not matched'\n",
    "                for i in range(num_f):\n",
    "                    self.train_inp.append(self.train_2d[k2d][i])\n",
    "                    self.train_out.append(self.train_3d[k3d][i])\n",
    "\n",
    "        else:\n",
    "            # load test data\n",
    "            self.test_3d = torch.load(os.path.join(data_path, 'test_3d.pth.tar'))\n",
    "            self.test_2d = torch.load(os.path.join(data_path, test_2d_file))\n",
    "            for k2d in self.test_2d.keys():\n",
    "                (sub, act, fname) = k2d\n",
    "                if act not in self.actions:\n",
    "                    continue\n",
    "                k3d = k2d\n",
    "                k3d = (sub, act, fname[:-3]) if fname.endswith('-sh') else k3d\n",
    "                num_f, _ = self.test_2d[k2d].shape\n",
    "                assert self.test_2d[k2d].shape[0] == self.test_3d[k3d].shape[0], '(test) 3d & 2d shape not matched'\n",
    "                for i in range(num_f):\n",
    "                    self.test_inp.append(self.test_2d[k2d][i])\n",
    "                    self.test_out.append(self.test_3d[k3d][i])\n",
    "\n",
    "    def __getitem__(self, index):\n",
    "        if self.is_train:\n",
    "            inputs = torch.from_numpy(self.train_inp[index]).float()\n",
    "            outputs = torch.from_numpy(self.train_out[index]).float()\n",
    "\n",
    "        else:\n",
    "            inputs = torch.from_numpy(self.test_inp[index]).float()\n",
    "            outputs = torch.from_numpy(self.test_out[index]).float()\n",
    "\n",
    "        return inputs, outputs\n",
    "\n",
    "    def __len__(self):\n",
    "        if self.is_train:\n",
    "            return len(self.train_inp)\n",
    "        else:\n",
    "            return len(self.test_inp)\n"
   ]
  },
  {
   "cell_type": "code",
   "execution_count": null,
   "metadata": {},
   "outputs": [
    {
     "data": {
      "text/plain": [
       "<class '__main__.Human36M'>"
      ]
     },
     "execution_count": null,
     "metadata": {},
     "output_type": "execute_result"
    }
   ],
   "source": [
    "dataset = Human36M(actions, data_path, False, True)\n",
    "type(dataset)"
   ]
  },
  {
   "cell_type": "code",
   "execution_count": null,
   "metadata": {},
   "outputs": [],
   "source": [
    "test_loader = DataLoader(dataset=dataset, batch_size=64, shuffle=False, num_workers=8)"
   ]
  },
  {
   "cell_type": "code",
   "execution_count": null,
   "metadata": {},
   "outputs": [],
   "source": [
    "x, y = next(iter(test_loader))"
   ]
  },
  {
   "cell_type": "code",
   "execution_count": null,
   "metadata": {},
   "outputs": [],
   "source": [
    "y = y[0]\n",
    "x = x[0]"
   ]
  },
  {
   "cell_type": "code",
   "execution_count": null,
   "metadata": {},
   "outputs": [],
   "source": [
    "def unNormalizeData(normalized_data, data_mean, data_std, dimensions_to_use):\n",
    "    T = normalized_data.shape[0]  # Batch size\n",
    "    D = data_mean.shape[0]  # 96\n",
    "\n",
    "    orig_data = np.zeros((T, D), dtype=np.float32)\n",
    "\n",
    "    orig_data[:, dimensions_to_use] = normalized_data\n",
    "\n",
    "    # Multiply times stdev and add the mean\n",
    "    stdMat = data_std.reshape((1, D))\n",
    "    stdMat = np.repeat(stdMat, T, axis=0)\n",
    "    meanMat = data_mean.reshape((1, D))\n",
    "    meanMat = np.repeat(meanMat, T, axis=0)\n",
    "    orig_data = np.multiply(orig_data, stdMat) + meanMat\n",
    "    return orig_data"
   ]
  },
  {
   "cell_type": "code",
   "execution_count": null,
   "metadata": {},
   "outputs": [
    {
     "data": {
      "text/plain": [
       "dict_keys(['mean', 'std', 'dim_use', 'dim_ignore', 'train_root', 'test_root'])"
      ]
     },
     "execution_count": null,
     "metadata": {},
     "output_type": "execute_result"
    }
   ],
   "source": [
    "stat_3d.keys()"
   ]
  },
  {
   "cell_type": "code",
   "execution_count": null,
   "metadata": {},
   "outputs": [
    {
     "data": {
      "text/plain": [
       "96"
      ]
     },
     "execution_count": null,
     "metadata": {},
     "output_type": "execute_result"
    }
   ],
   "source": [
    "len(stat_3d['std'])"
   ]
  },
  {
   "cell_type": "code",
   "execution_count": null,
   "metadata": {},
   "outputs": [
    {
     "data": {
      "text/plain": [
       "48"
      ]
     },
     "execution_count": null,
     "metadata": {},
     "output_type": "execute_result"
    }
   ],
   "source": [
    "len(y)"
   ]
  },
  {
   "cell_type": "code",
   "execution_count": null,
   "metadata": {},
   "outputs": [
    {
     "data": {
      "text/plain": [
       "array([ 3,  4,  5,  6,  7,  8,  9, 10, 11, 18, 19, 20, 21, 22, 23, 24, 25, 26, 36, 37, 38, 39, 40, 41, 42, 43, 44, 45,\n",
       "       46, 47, 51, 52, 53, 54, 55, 56, 57, 58, 59, 75, 76, 77, 78, 79, 80, 81, 82, 83])"
      ]
     },
     "execution_count": null,
     "metadata": {},
     "output_type": "execute_result"
    }
   ],
   "source": [
    "stat_3d['dim_use']"
   ]
  },
  {
   "cell_type": "code",
   "execution_count": null,
   "metadata": {},
   "outputs": [
    {
     "data": {
      "text/plain": [
       "array([ 0,  1,  2, 12, 13, 14, 15, 16, 17, 27, 28, 29, 30, 31, 32, 33, 34, 35, 48, 49, 50, 60, 61, 62, 63, 64, 65, 66,\n",
       "       67, 68, 69, 70, 71, 72, 73, 74, 84, 85, 86, 87, 88, 89, 90, 91, 92, 93, 94, 95])"
      ]
     },
     "execution_count": null,
     "metadata": {},
     "output_type": "execute_result"
    }
   ],
   "source": [
    "stat_3d['dim_ignore']"
   ]
  },
  {
   "cell_type": "code",
   "execution_count": null,
   "metadata": {},
   "outputs": [],
   "source": []
  }
 ],
 "metadata": {
  "kernelspec": {
   "display_name": "Python 3",
   "language": "python",
   "name": "python3"
  }
 },
 "nbformat": 4,
 "nbformat_minor": 4
}
